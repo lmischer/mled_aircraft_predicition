{
 "cells": [
  {
   "cell_type": "code",
   "execution_count": 1,
   "metadata": {
    "collapsed": true
   },
   "outputs": [],
   "source": [
    "import pandas as pd\n",
    "import pickle\n",
    "from sklearn.model_selection import train_test_split\n",
    "from sklearn.metrics import r2_score, mean_squared_error"
   ]
  },
  {
   "cell_type": "markdown",
   "source": [
    "Get test data"
   ],
   "metadata": {
    "collapsed": false,
    "pycharm": {
     "name": "#%% md\n"
    }
   }
  },
  {
   "cell_type": "code",
   "execution_count": 2,
   "outputs": [],
   "source": [
    "train_df = pd.read_csv('training_6_category_1/preprocessed.csv')\n",
    "train_df['type_sensor_1'] = train_df['type_sensor_1'].astype('category')\n",
    "train_df['type_sensor_2'] = train_df['type_sensor_2'].astype('category')\n",
    "train_df['type_sensor_3'] = train_df['type_sensor_3'].astype('category')\n",
    "\n",
    "X = train_df.drop(columns=['latitude_aircraft', 'longitude_aircraft', 'geoAltitude', 'baroAltitude'])\n",
    "Y = train_df[['latitude_aircraft', 'longitude_aircraft', 'geoAltitude', 'baroAltitude']]\n",
    "X_train, X_test, y_train, y_test = train_test_split(X, Y, test_size=0.3, random_state=42)"
   ],
   "metadata": {
    "collapsed": false,
    "pycharm": {
     "name": "#%%\n"
    }
   }
  },
  {
   "cell_type": "markdown",
   "source": [
    "# SKLearn\n",
    "\n",
    "Evaluate different models from SKLearn"
   ],
   "metadata": {
    "collapsed": false,
    "pycharm": {
     "name": "#%% md\n"
    }
   }
  },
  {
   "cell_type": "markdown",
   "source": [
    "## Multi Output Regression\n",
    "\n",
    "First model is a simple multi output regression.\n",
    "Multi output regression because we predict longitude and latitude.\n",
    "Multi output regression does not learn the relation between the two predicted variables."
   ],
   "metadata": {
    "collapsed": false,
    "pycharm": {
     "name": "#%% md\n"
    }
   }
  },
  {
   "cell_type": "code",
   "execution_count": 3,
   "outputs": [
    {
     "name": "stdout",
     "output_type": "stream",
     "text": [
      "Linear Regression\n",
      "r2 long: 0.0008520497230456447\n",
      "r2 lat: 0.0008016530933001587\n",
      "rmse long: 4.201904586667343\n",
      "rmse lat: 3.0937101522284562\n",
      "\n",
      "\n"
     ]
    }
   ],
   "source": [
    "with open('models/mlr_model_aircraft_pred_no_alt.pkl', 'rb') as mlr_fh:\n",
    "    mlr = pickle.load(mlr_fh)\n",
    "\n",
    "pred = mlr.predict(X_test)\n",
    "print('Linear Regression')\n",
    "print(f\"r2 long: {r2_score(y_test['longitude_aircraft'], [long for long, lat in pred])}\")\n",
    "print(f\"r2 lat: {r2_score(y_test['latitude_aircraft'], [lat for long, lat in pred])}\")\n",
    "print(f\"rmse long: {mean_squared_error(y_test['longitude_aircraft'], [long for long, lat in pred], squared=False)}\")\n",
    "print(f\"rmse lat: {mean_squared_error(y_test['latitude_aircraft'], [lat for long, lat in pred], squared=False)}\\n\\n\")"
   ],
   "metadata": {
    "collapsed": false,
    "pycharm": {
     "name": "#%%\n"
    }
   }
  },
  {
   "cell_type": "markdown",
   "source": [
    "## Multitask Elastic Net without Altitude"
   ],
   "metadata": {
    "collapsed": false,
    "pycharm": {
     "name": "#%% md\n"
    }
   }
  },
  {
   "cell_type": "code",
   "execution_count": 4,
   "outputs": [
    {
     "name": "stdout",
     "output_type": "stream",
     "text": [
      "Multitask Elastic Net without Altitude\n",
      "r2 long: -1.3774966922674992e-07\n",
      "r2 lat: -2.3311487105104334e-06\n",
      "rmse long: 4.203696136779482\n",
      "rmse lat: 3.0949545468389936\n",
      "\n",
      "\n"
     ]
    }
   ],
   "source": [
    "with open('models/men_model_aircraft_pred_no_alt.pkl', 'rb') as men_no_alt_fh:\n",
    "    men_no_alt = pickle.load(men_no_alt_fh)\n",
    "\n",
    "pred = men_no_alt.predict(X_test)\n",
    "\n",
    "print('Multitask Elastic Net without Altitude')\n",
    "print(f\"r2 long: {r2_score(y_test['longitude_aircraft'], [long for long, lat in pred])}\")\n",
    "print(f\"r2 lat: {r2_score(y_test['latitude_aircraft'], [lat for long, lat in pred])}\")\n",
    "print(f\"rmse long: {mean_squared_error(y_test['longitude_aircraft'], [long for long, lat in pred], squared=False)}\")\n",
    "print(f\"rmse lat: {mean_squared_error(y_test['latitude_aircraft'], [lat for long, lat in pred], squared=False)}\\n\\n\")\n"
   ],
   "metadata": {
    "collapsed": false,
    "pycharm": {
     "name": "#%%\n"
    }
   }
  },
  {
   "cell_type": "markdown",
   "source": [
    "## Multitask Elastic Net with Altitude"
   ],
   "metadata": {
    "collapsed": false,
    "pycharm": {
     "name": "#%% md\n"
    }
   }
  },
  {
   "cell_type": "code",
   "execution_count": 6,
   "outputs": [
    {
     "name": "stdout",
     "output_type": "stream",
     "text": [
      "Multitask Elastic Net\n",
      "r2 long: 1.0670027573933538e-05\n",
      "r2 lat: 1.7049724647666409e-06\n",
      "rmse long: 4.20367342041551\n",
      "rmse lat: 3.09494830104146\n",
      "\n",
      "\n"
     ]
    }
   ],
   "source": [
    "with open('models/men_model_aircraft_pred.pkl', 'rb') as men_fh:\n",
    "    men = pickle.load(men_fh)\n",
    "\n",
    "pred = men.predict(X_test)\n",
    "\n",
    "print('Multitask Elastic Net')\n",
    "print(f\"r2 long: {r2_score(y_test['longitude_aircraft'], [long for lat, long, geo, baro  in pred])}\")\n",
    "print(f\"r2 lat: {r2_score(y_test['latitude_aircraft'], [lat for lat, long, geo, baro  in pred])}\")\n",
    "print(f\"rmse long: {mean_squared_error(y_test['longitude_aircraft'], [long for lat, long, geo, baro  in pred], squared=False)}\")\n",
    "print(f\"rmse lat: {mean_squared_error(y_test['latitude_aircraft'], [lat for lat, long, geo, baro  in pred], squared=False)}\\n\\n\")\n",
    "\n"
   ],
   "metadata": {
    "collapsed": false,
    "pycharm": {
     "name": "#%%\n"
    }
   }
  }
 ],
 "metadata": {
  "kernelspec": {
   "display_name": "Python 3",
   "language": "python",
   "name": "python3"
  },
  "language_info": {
   "codemirror_mode": {
    "name": "ipython",
    "version": 2
   },
   "file_extension": ".py",
   "mimetype": "text/x-python",
   "name": "python",
   "nbconvert_exporter": "python",
   "pygments_lexer": "ipython2",
   "version": "2.7.6"
  }
 },
 "nbformat": 4,
 "nbformat_minor": 0
}