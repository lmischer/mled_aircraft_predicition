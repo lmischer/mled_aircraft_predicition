{
 "cells": [
  {
   "cell_type": "code",
   "execution_count": 1,
   "metadata": {},
   "outputs": [],
   "source": [
    "import json as js\n",
    "from matplotlib.pyplot import boxplot\n",
    "import pandas as pd"
   ]
  },
  {
   "cell_type": "markdown",
   "metadata": {
    "pycharm": {
     "name": "#%% md\n"
    }
   },
   "source": [
    "Read list of measurements and return them as sorted list descending by signal strength.\n",
    "A measurement is a tuple of the serial, a timestamp and the signal strength."
   ]
  },
  {
   "cell_type": "code",
   "execution_count": 2,
   "metadata": {
    "pycharm": {
     "name": "#%%\n"
    }
   },
   "outputs": [],
   "source": [
    "def convert_measurements(val):\n",
    "    measurements = js.loads(val)\n",
    "    measurements_list = []\n",
    "    for m in measurements:\n",
    "        serial = m[0]\n",
    "        timestamp = m[1]\n",
    "        signal_strength = m[2]\n",
    "        measurements_list.append((serial, timestamp, signal_strength))\n",
    "\n",
    "    return sorted(measurements_list, key = lambda msmt: msmt[2], reverse=True)"
   ]
  },
  {
   "cell_type": "markdown",
   "metadata": {
    "pycharm": {
     "name": "#%% md\n"
    }
   },
   "source": [
    "Select top 3 measurements with the strongest signal strength and reliable sensor.\n",
    "The sensor of type 'GRX1090' has some strong outliers, these are removed.\n",
    "Duplicate strongest measurement if there are less than 3 measurements available."
   ]
  },
  {
   "cell_type": "code",
   "execution_count": 3,
   "metadata": {
    "pycharm": {
     "name": "#%%\n"
    }
   },
   "outputs": [],
   "source": [
    "def select_measurements(measurements, reliable_sensors):\n",
    "    selection = [(serial, timestamp, signal_strength) for serial, timestamp, signal_strength in measurements if signal_strength < 200 and serial in reliable_sensors]\n",
    "    if len(selection) >= 3:\n",
    "        return selection[0:2]\n",
    "    else:\n",
    "        while len(selection) < 3:\n",
    "            selection.append(selection[0])\n",
    "        return selection"
   ]
  },
  {
   "cell_type": "code",
   "execution_count": 4,
   "metadata": {
    "pycharm": {
     "name": "#%%\n"
    }
   },
   "outputs": [],
   "source": [
    "aircrafts_data_df = pd.read_csv('training_6_category_1/training_6_category_1.csv', index_col='id', converters={'measurements': convert_measurements})\n",
    "sensors_df = pd.read_csv('training_6_category_1/sensors.csv', index_col='serial', dtype={'type': 'category'})"
   ]
  },
  {
   "cell_type": "code",
   "execution_count": 5,
   "metadata": {
    "pycharm": {
     "name": "#%%\n"
    }
   },
   "outputs": [
    {
     "name": "stdout",
     "output_type": "stream",
     "text": [
      "<class 'pandas.core.frame.DataFrame'>\n",
      "Int64Index: 1930138 entries, 1 to 1930138\n",
      "Data columns (total 8 columns):\n",
      " #   Column           Dtype  \n",
      "---  ------           -----  \n",
      " 0   timeAtServer     float64\n",
      " 1   aircraft         int64  \n",
      " 2   latitude         float64\n",
      " 3   longitude        float64\n",
      " 4   baroAltitude     float64\n",
      " 5   geoAltitude      float64\n",
      " 6   numMeasurements  int64  \n",
      " 7   measurements     object \n",
      "dtypes: float64(5), int64(2), object(1)\n",
      "memory usage: 132.5+ MB\n"
     ]
    },
    {
     "data": {
      "text/html": [
       "<div>\n",
       "<style scoped>\n",
       "    .dataframe tbody tr th:only-of-type {\n",
       "        vertical-align: middle;\n",
       "    }\n",
       "\n",
       "    .dataframe tbody tr th {\n",
       "        vertical-align: top;\n",
       "    }\n",
       "\n",
       "    .dataframe thead th {\n",
       "        text-align: right;\n",
       "    }\n",
       "</style>\n",
       "<table border=\"1\" class=\"dataframe\">\n",
       "  <thead>\n",
       "    <tr style=\"text-align: right;\">\n",
       "      <th></th>\n",
       "      <th>timeAtServer</th>\n",
       "      <th>aircraft</th>\n",
       "      <th>latitude</th>\n",
       "      <th>longitude</th>\n",
       "      <th>baroAltitude</th>\n",
       "      <th>geoAltitude</th>\n",
       "      <th>numMeasurements</th>\n",
       "      <th>measurements</th>\n",
       "    </tr>\n",
       "    <tr>\n",
       "      <th>id</th>\n",
       "      <th></th>\n",
       "      <th></th>\n",
       "      <th></th>\n",
       "      <th></th>\n",
       "      <th></th>\n",
       "      <th></th>\n",
       "      <th></th>\n",
       "      <th></th>\n",
       "    </tr>\n",
       "  </thead>\n",
       "  <tbody>\n",
       "    <tr>\n",
       "      <th>1</th>\n",
       "      <td>0.000</td>\n",
       "      <td>1644</td>\n",
       "      <td>48.821686</td>\n",
       "      <td>9.460285</td>\n",
       "      <td>12192.00</td>\n",
       "      <td>12809.22</td>\n",
       "      <td>6</td>\n",
       "      <td>[(10, 982544687, 115), (188, 982236531, 98), (...</td>\n",
       "    </tr>\n",
       "    <tr>\n",
       "      <th>2</th>\n",
       "      <td>0.000</td>\n",
       "      <td>2184</td>\n",
       "      <td>49.810226</td>\n",
       "      <td>8.533052</td>\n",
       "      <td>7985.76</td>\n",
       "      <td>8420.10</td>\n",
       "      <td>2</td>\n",
       "      <td>[(248, 983521375, 54), (440, 982912351, 40)]</td>\n",
       "    </tr>\n",
       "    <tr>\n",
       "      <th>3</th>\n",
       "      <td>0.001</td>\n",
       "      <td>1453</td>\n",
       "      <td>48.471587</td>\n",
       "      <td>14.024048</td>\n",
       "      <td>12192.00</td>\n",
       "      <td>12793.98</td>\n",
       "      <td>3</td>\n",
       "      <td>[(125, 995644625, 108), (131, 995470765, 79), ...</td>\n",
       "    </tr>\n",
       "    <tr>\n",
       "      <th>4</th>\n",
       "      <td>0.002</td>\n",
       "      <td>119</td>\n",
       "      <td>48.695572</td>\n",
       "      <td>9.116610</td>\n",
       "      <td>8663.94</td>\n",
       "      <td>9182.10</td>\n",
       "      <td>4</td>\n",
       "      <td>[(10, 946077203, 132), (254, 945660203, 130), ...</td>\n",
       "    </tr>\n",
       "    <tr>\n",
       "      <th>5</th>\n",
       "      <td>0.002</td>\n",
       "      <td>312</td>\n",
       "      <td>47.209076</td>\n",
       "      <td>10.070480</td>\n",
       "      <td>11277.60</td>\n",
       "      <td>11849.10</td>\n",
       "      <td>5</td>\n",
       "      <td>[(123, 994055875, 79), (10, 994299171, 69), (1...</td>\n",
       "    </tr>\n",
       "  </tbody>\n",
       "</table>\n",
       "</div>"
      ],
      "text/plain": [
       "    timeAtServer  aircraft   latitude  longitude  baroAltitude  geoAltitude  \\\n",
       "id                                                                            \n",
       "1          0.000      1644  48.821686   9.460285      12192.00     12809.22   \n",
       "2          0.000      2184  49.810226   8.533052       7985.76      8420.10   \n",
       "3          0.001      1453  48.471587  14.024048      12192.00     12793.98   \n",
       "4          0.002       119  48.695572   9.116610       8663.94      9182.10   \n",
       "5          0.002       312  47.209076  10.070480      11277.60     11849.10   \n",
       "\n",
       "    numMeasurements                                       measurements  \n",
       "id                                                                      \n",
       "1                 6  [(10, 982544687, 115), (188, 982236531, 98), (...  \n",
       "2                 2       [(248, 983521375, 54), (440, 982912351, 40)]  \n",
       "3                 3  [(125, 995644625, 108), (131, 995470765, 79), ...  \n",
       "4                 4  [(10, 946077203, 132), (254, 945660203, 130), ...  \n",
       "5                 5  [(123, 994055875, 79), (10, 994299171, 69), (1...  "
      ]
     },
     "execution_count": 5,
     "metadata": {},
     "output_type": "execute_result"
    }
   ],
   "source": [
    "aircrafts_data_df.info()\n",
    "aircrafts_data_df.head()"
   ]
  },
  {
   "cell_type": "code",
   "execution_count": 6,
   "metadata": {
    "pycharm": {
     "name": "#%%\n"
    }
   },
   "outputs": [
    {
     "data": {
      "text/plain": [
       "timeAtServer           0\n",
       "aircraft               0\n",
       "latitude           85165\n",
       "longitude          85165\n",
       "baroAltitude           0\n",
       "geoAltitude        85165\n",
       "numMeasurements        0\n",
       "measurements           0\n",
       "dtype: int64"
      ]
     },
     "execution_count": 6,
     "metadata": {},
     "output_type": "execute_result"
    }
   ],
   "source": [
    "aircrafts_data_df.isna().sum()"
   ]
  },
  {
   "cell_type": "code",
   "execution_count": 7,
   "metadata": {
    "pycharm": {
     "name": "#%%\n"
    }
   },
   "outputs": [
    {
     "name": "stdout",
     "output_type": "stream",
     "text": [
      "<class 'pandas.core.frame.DataFrame'>\n",
      "Int64Index: 523 entries, 1 to 523\n",
      "Data columns (total 4 columns):\n",
      " #   Column     Non-Null Count  Dtype   \n",
      "---  ------     --------------  -----   \n",
      " 0   latitude   523 non-null    float64 \n",
      " 1   longitude  523 non-null    float64 \n",
      " 2   height     523 non-null    float64 \n",
      " 3   type       523 non-null    category\n",
      "dtypes: category(1), float64(3)\n",
      "memory usage: 17.1 KB\n"
     ]
    },
    {
     "data": {
      "text/html": [
       "<div>\n",
       "<style scoped>\n",
       "    .dataframe tbody tr th:only-of-type {\n",
       "        vertical-align: middle;\n",
       "    }\n",
       "\n",
       "    .dataframe tbody tr th {\n",
       "        vertical-align: top;\n",
       "    }\n",
       "\n",
       "    .dataframe thead th {\n",
       "        text-align: right;\n",
       "    }\n",
       "</style>\n",
       "<table border=\"1\" class=\"dataframe\">\n",
       "  <thead>\n",
       "    <tr style=\"text-align: right;\">\n",
       "      <th></th>\n",
       "      <th>latitude</th>\n",
       "      <th>longitude</th>\n",
       "      <th>height</th>\n",
       "      <th>type</th>\n",
       "    </tr>\n",
       "    <tr>\n",
       "      <th>serial</th>\n",
       "      <th></th>\n",
       "      <th></th>\n",
       "      <th></th>\n",
       "      <th></th>\n",
       "    </tr>\n",
       "  </thead>\n",
       "  <tbody>\n",
       "    <tr>\n",
       "      <th>1</th>\n",
       "      <td>46.681067</td>\n",
       "      <td>7.665313</td>\n",
       "      <td>680.9232</td>\n",
       "      <td>SBS-3</td>\n",
       "    </tr>\n",
       "    <tr>\n",
       "      <th>2</th>\n",
       "      <td>40.337042</td>\n",
       "      <td>-3.770206</td>\n",
       "      <td>735.7872</td>\n",
       "      <td>SBS-3</td>\n",
       "    </tr>\n",
       "    <tr>\n",
       "      <th>3</th>\n",
       "      <td>0.000000</td>\n",
       "      <td>0.000000</td>\n",
       "      <td>0.0000</td>\n",
       "      <td>SBS-3</td>\n",
       "    </tr>\n",
       "    <tr>\n",
       "      <th>4</th>\n",
       "      <td>47.143056</td>\n",
       "      <td>7.243889</td>\n",
       "      <td>550.1640</td>\n",
       "      <td>SBS-3</td>\n",
       "    </tr>\n",
       "    <tr>\n",
       "      <th>5</th>\n",
       "      <td>52.356455</td>\n",
       "      <td>4.952216</td>\n",
       "      <td>0.0000</td>\n",
       "      <td>dump1090</td>\n",
       "    </tr>\n",
       "  </tbody>\n",
       "</table>\n",
       "</div>"
      ],
      "text/plain": [
       "         latitude  longitude    height      type\n",
       "serial                                          \n",
       "1       46.681067   7.665313  680.9232     SBS-3\n",
       "2       40.337042  -3.770206  735.7872     SBS-3\n",
       "3        0.000000   0.000000    0.0000     SBS-3\n",
       "4       47.143056   7.243889  550.1640     SBS-3\n",
       "5       52.356455   4.952216    0.0000  dump1090"
      ]
     },
     "execution_count": 7,
     "metadata": {},
     "output_type": "execute_result"
    }
   ],
   "source": [
    "sensors_df.info()\n",
    "sensors_df.head()"
   ]
  },
  {
   "cell_type": "markdown",
   "metadata": {
    "pycharm": {
     "name": "#%% md\n"
    }
   },
   "source": [
    "Filter out unreliable sensors and get list with reliable sensors serials"
   ]
  },
  {
   "cell_type": "code",
   "execution_count": 8,
   "metadata": {
    "pycharm": {
     "name": "#%%\n"
    }
   },
   "outputs": [],
   "source": [
    "sensors_df = sensors_df[sensors_df['type'] != 'dump1090']\n",
    "reliable_sensors = sensors_df.index"
   ]
  },
  {
   "cell_type": "code",
   "execution_count": 9,
   "metadata": {
    "pycharm": {
     "name": "#%%\n"
    }
   },
   "outputs": [],
   "source": [
    "aircrafts_data_df['measurements'] = aircrafts_data_df['measurements'].apply(select_measurements, reliable_sensors=reliable_sensors)"
   ]
  },
  {
   "cell_type": "markdown",
   "metadata": {
    "pycharm": {
     "name": "#%% md\n"
    }
   },
   "source": [
    "Make data point for each selected measurement and split the tuple from measurements in rows"
   ]
  },
  {
   "cell_type": "code",
   "execution_count": 10,
   "metadata": {
    "pycharm": {
     "name": "#%%\n"
    }
   },
   "outputs": [],
   "source": [
    "m_df = pd.DataFrame(aircrafts_data_df['measurements'].tolist(),columns=['m1','m2', 'm3'])\n",
    "\n",
    "tmp_msmts = pd.concat(\n",
    "    [\n",
    "        pd.DataFrame(m_df[\"m1\"].to_list(), columns=['serial_1','timestamp_1','signal_strength_1']),\n",
    "        pd.DataFrame(m_df[\"m2\"].to_list(), columns=['serial_2','timestamp_2','signal_strength_2']),\n",
    "        pd.DataFrame(m_df[\"m2\"].to_list(), columns=['serial_3','timestamp_3','signal_strength_3'])\n",
    "    ], axis=1\n",
    ")"
   ]
  },
  {
   "cell_type": "code",
   "execution_count": 11,
   "metadata": {
    "pycharm": {
     "name": "#%%\n"
    }
   },
   "outputs": [],
   "source": [
    "training_df = pd.concat([aircrafts_data_df, tmp_msmts], axis=1)\n",
    "training_df.drop('measurements', axis=1, inplace=True)"
   ]
  },
  {
   "cell_type": "markdown",
   "metadata": {
    "pycharm": {
     "name": "#%% md\n"
    }
   },
   "source": [
    "Join information from the sensors to the df"
   ]
  },
  {
   "cell_type": "code",
   "execution_count": 12,
   "metadata": {
    "pycharm": {
     "name": "#%%\n"
    }
   },
   "outputs": [
    {
     "name": "stdout",
     "output_type": "stream",
     "text": [
      "<class 'pandas.core.frame.DataFrame'>\n",
      "Int64Index: 1930139 entries, 1 to 0\n",
      "Data columns (total 28 columns):\n",
      " #   Column              Dtype   \n",
      "---  ------              -----   \n",
      " 0   timeAtServer        float64 \n",
      " 1   aircraft            float64 \n",
      " 2   latitude_aircraft   float64 \n",
      " 3   longitude_aircraft  float64 \n",
      " 4   baroAltitude        float64 \n",
      " 5   geoAltitude         float64 \n",
      " 6   numMeasurements     float64 \n",
      " 7   serial_1            float64 \n",
      " 8   timestamp_1         float64 \n",
      " 9   signal_strength_1   float64 \n",
      " 10  serial_2            float64 \n",
      " 11  timestamp_2         float64 \n",
      " 12  signal_strength_2   float64 \n",
      " 13  serial_3            float64 \n",
      " 14  timestamp_3         float64 \n",
      " 15  signal_strength_3   float64 \n",
      " 16  latitude_sensor_1   float64 \n",
      " 17  longitude_sensor_1  float64 \n",
      " 18  height_sensor_1     float64 \n",
      " 19  type_sensor_1       category\n",
      " 20  latitude_sensor_2   float64 \n",
      " 21  longitude_sensor_2  float64 \n",
      " 22  height_sensor_2     float64 \n",
      " 23  type_sensor_2       category\n",
      " 24  latitude_sensor_3   float64 \n",
      " 25  longitude_sensor_3  float64 \n",
      " 26  height_sensor_3     float64 \n",
      " 27  type_sensor_3       category\n",
      "dtypes: category(3), float64(25)\n",
      "memory usage: 388.4 MB\n"
     ]
    }
   ],
   "source": [
    "training_df = training_df.join(sensors_df, on='serial_1', lsuffix='_aircraft', rsuffix='_sensor_1')\n",
    "training_df = training_df.join(sensors_df, on='serial_2', lsuffix='_sensor_1', rsuffix='_sensor_2')\n",
    "training_df = training_df.join(sensors_df, on='serial_3', lsuffix='_sensor_2', rsuffix='_sensor_3')\n",
    "training_df.rename(columns={'height': 'height_sensor_3', 'type': 'type_sensor_3'}, inplace=True)\n",
    "training_df.info()"
   ]
  },
  {
   "cell_type": "markdown",
   "metadata": {},
   "source": [
    "Rows with NA values shall be predicted -> collect them to prediction df\n",
    "Drop rows which have NA values for target variables"
   ]
  },
  {
   "cell_type": "code",
   "execution_count": 13,
   "metadata": {
    "pycharm": {
     "name": "#%%\n"
    }
   },
   "outputs": [
    {
     "name": "stdout",
     "output_type": "stream",
     "text": [
      "<class 'pandas.core.frame.DataFrame'>\n",
      "Int64Index: 85166 entries, 17 to 0\n",
      "Data columns (total 28 columns):\n",
      " #   Column              Non-Null Count  Dtype   \n",
      "---  ------              --------------  -----   \n",
      " 0   timeAtServer        85165 non-null  float64 \n",
      " 1   aircraft            85165 non-null  float64 \n",
      " 2   latitude_aircraft   0 non-null      float64 \n",
      " 3   longitude_aircraft  0 non-null      float64 \n",
      " 4   baroAltitude        85165 non-null  float64 \n",
      " 5   geoAltitude         0 non-null      float64 \n",
      " 6   numMeasurements     85165 non-null  float64 \n",
      " 7   serial_1            85166 non-null  float64 \n",
      " 8   timestamp_1         85166 non-null  float64 \n",
      " 9   signal_strength_1   85166 non-null  float64 \n",
      " 10  serial_2            85166 non-null  float64 \n",
      " 11  timestamp_2         85166 non-null  float64 \n",
      " 12  signal_strength_2   85166 non-null  float64 \n",
      " 13  serial_3            85166 non-null  float64 \n",
      " 14  timestamp_3         85166 non-null  float64 \n",
      " 15  signal_strength_3   85166 non-null  float64 \n",
      " 16  latitude_sensor_1   85166 non-null  float64 \n",
      " 17  longitude_sensor_1  85166 non-null  float64 \n",
      " 18  height_sensor_1     85166 non-null  float64 \n",
      " 19  type_sensor_1       85166 non-null  category\n",
      " 20  latitude_sensor_2   85166 non-null  float64 \n",
      " 21  longitude_sensor_2  85166 non-null  float64 \n",
      " 22  height_sensor_2     85166 non-null  float64 \n",
      " 23  type_sensor_2       85166 non-null  category\n",
      " 24  latitude_sensor_3   85166 non-null  float64 \n",
      " 25  longitude_sensor_3  85166 non-null  float64 \n",
      " 26  height_sensor_3     85166 non-null  float64 \n",
      " 27  type_sensor_3       85166 non-null  category\n",
      "dtypes: category(3), float64(25)\n",
      "memory usage: 17.1 MB\n"
     ]
    },
    {
     "data": {
      "text/html": [
       "<div>\n",
       "<style scoped>\n",
       "    .dataframe tbody tr th:only-of-type {\n",
       "        vertical-align: middle;\n",
       "    }\n",
       "\n",
       "    .dataframe tbody tr th {\n",
       "        vertical-align: top;\n",
       "    }\n",
       "\n",
       "    .dataframe thead th {\n",
       "        text-align: right;\n",
       "    }\n",
       "</style>\n",
       "<table border=\"1\" class=\"dataframe\">\n",
       "  <thead>\n",
       "    <tr style=\"text-align: right;\">\n",
       "      <th></th>\n",
       "      <th>timeAtServer</th>\n",
       "      <th>aircraft</th>\n",
       "      <th>latitude_aircraft</th>\n",
       "      <th>longitude_aircraft</th>\n",
       "      <th>baroAltitude</th>\n",
       "      <th>geoAltitude</th>\n",
       "      <th>numMeasurements</th>\n",
       "      <th>serial_1</th>\n",
       "      <th>timestamp_1</th>\n",
       "      <th>signal_strength_1</th>\n",
       "      <th>...</th>\n",
       "      <th>height_sensor_1</th>\n",
       "      <th>type_sensor_1</th>\n",
       "      <th>latitude_sensor_2</th>\n",
       "      <th>longitude_sensor_2</th>\n",
       "      <th>height_sensor_2</th>\n",
       "      <th>type_sensor_2</th>\n",
       "      <th>latitude_sensor_3</th>\n",
       "      <th>longitude_sensor_3</th>\n",
       "      <th>height_sensor_3</th>\n",
       "      <th>type_sensor_3</th>\n",
       "    </tr>\n",
       "  </thead>\n",
       "  <tbody>\n",
       "    <tr>\n",
       "      <th>17</th>\n",
       "      <td>0.020</td>\n",
       "      <td>1859.0</td>\n",
       "      <td>NaN</td>\n",
       "      <td>NaN</td>\n",
       "      <td>11277.60</td>\n",
       "      <td>NaN</td>\n",
       "      <td>6.0</td>\n",
       "      <td>125.0</td>\n",
       "      <td>1.011085e+09</td>\n",
       "      <td>131.0</td>\n",
       "      <td>...</td>\n",
       "      <td>497.984192</td>\n",
       "      <td>Radarcape</td>\n",
       "      <td>47.511948</td>\n",
       "      <td>10.280076</td>\n",
       "      <td>754.537476</td>\n",
       "      <td>Radarcape</td>\n",
       "      <td>47.511948</td>\n",
       "      <td>10.280076</td>\n",
       "      <td>754.537476</td>\n",
       "      <td>Radarcape</td>\n",
       "    </tr>\n",
       "    <tr>\n",
       "      <th>18</th>\n",
       "      <td>0.020</td>\n",
       "      <td>301.0</td>\n",
       "      <td>NaN</td>\n",
       "      <td>NaN</td>\n",
       "      <td>9761.22</td>\n",
       "      <td>NaN</td>\n",
       "      <td>5.0</td>\n",
       "      <td>101.0</td>\n",
       "      <td>1.007399e+09</td>\n",
       "      <td>49.0</td>\n",
       "      <td>...</td>\n",
       "      <td>92.620644</td>\n",
       "      <td>Radarcape</td>\n",
       "      <td>49.471601</td>\n",
       "      <td>7.696532</td>\n",
       "      <td>273.985000</td>\n",
       "      <td>GRX1090</td>\n",
       "      <td>49.471601</td>\n",
       "      <td>7.696532</td>\n",
       "      <td>273.985000</td>\n",
       "      <td>GRX1090</td>\n",
       "    </tr>\n",
       "    <tr>\n",
       "      <th>84</th>\n",
       "      <td>0.119</td>\n",
       "      <td>208.0</td>\n",
       "      <td>NaN</td>\n",
       "      <td>NaN</td>\n",
       "      <td>10363.20</td>\n",
       "      <td>NaN</td>\n",
       "      <td>3.0</td>\n",
       "      <td>130.0</td>\n",
       "      <td>1.102629e+09</td>\n",
       "      <td>103.0</td>\n",
       "      <td>...</td>\n",
       "      <td>326.477930</td>\n",
       "      <td>Radarcape</td>\n",
       "      <td>46.049908</td>\n",
       "      <td>14.469008</td>\n",
       "      <td>346.883193</td>\n",
       "      <td>Radarcape</td>\n",
       "      <td>46.049908</td>\n",
       "      <td>14.469008</td>\n",
       "      <td>346.883193</td>\n",
       "      <td>Radarcape</td>\n",
       "    </tr>\n",
       "    <tr>\n",
       "      <th>105</th>\n",
       "      <td>0.141</td>\n",
       "      <td>1300.0</td>\n",
       "      <td>NaN</td>\n",
       "      <td>NaN</td>\n",
       "      <td>9448.80</td>\n",
       "      <td>NaN</td>\n",
       "      <td>3.0</td>\n",
       "      <td>238.0</td>\n",
       "      <td>1.079689e+09</td>\n",
       "      <td>49.0</td>\n",
       "      <td>...</td>\n",
       "      <td>146.599701</td>\n",
       "      <td>Radarcape</td>\n",
       "      <td>51.440416</td>\n",
       "      <td>6.751119</td>\n",
       "      <td>46.657000</td>\n",
       "      <td>GRX1090</td>\n",
       "      <td>51.440416</td>\n",
       "      <td>6.751119</td>\n",
       "      <td>46.657000</td>\n",
       "      <td>GRX1090</td>\n",
       "    </tr>\n",
       "    <tr>\n",
       "      <th>138</th>\n",
       "      <td>0.208</td>\n",
       "      <td>2340.0</td>\n",
       "      <td>NaN</td>\n",
       "      <td>NaN</td>\n",
       "      <td>9890.76</td>\n",
       "      <td>NaN</td>\n",
       "      <td>2.0</td>\n",
       "      <td>131.0</td>\n",
       "      <td>1.191529e+09</td>\n",
       "      <td>109.0</td>\n",
       "      <td>...</td>\n",
       "      <td>529.392761</td>\n",
       "      <td>Radarcape</td>\n",
       "      <td>48.196694</td>\n",
       "      <td>16.371110</td>\n",
       "      <td>203.513042</td>\n",
       "      <td>Radarcape</td>\n",
       "      <td>48.196694</td>\n",
       "      <td>16.371110</td>\n",
       "      <td>203.513042</td>\n",
       "      <td>Radarcape</td>\n",
       "    </tr>\n",
       "  </tbody>\n",
       "</table>\n",
       "<p>5 rows × 28 columns</p>\n",
       "</div>"
      ],
      "text/plain": [
       "     timeAtServer  aircraft  latitude_aircraft  longitude_aircraft  \\\n",
       "17          0.020    1859.0                NaN                 NaN   \n",
       "18          0.020     301.0                NaN                 NaN   \n",
       "84          0.119     208.0                NaN                 NaN   \n",
       "105         0.141    1300.0                NaN                 NaN   \n",
       "138         0.208    2340.0                NaN                 NaN   \n",
       "\n",
       "     baroAltitude  geoAltitude  numMeasurements  serial_1   timestamp_1  \\\n",
       "17       11277.60          NaN              6.0     125.0  1.011085e+09   \n",
       "18        9761.22          NaN              5.0     101.0  1.007399e+09   \n",
       "84       10363.20          NaN              3.0     130.0  1.102629e+09   \n",
       "105       9448.80          NaN              3.0     238.0  1.079689e+09   \n",
       "138       9890.76          NaN              2.0     131.0  1.191529e+09   \n",
       "\n",
       "     signal_strength_1  ...  height_sensor_1  type_sensor_1  \\\n",
       "17               131.0  ...       497.984192      Radarcape   \n",
       "18                49.0  ...        92.620644      Radarcape   \n",
       "84               103.0  ...       326.477930      Radarcape   \n",
       "105               49.0  ...       146.599701      Radarcape   \n",
       "138              109.0  ...       529.392761      Radarcape   \n",
       "\n",
       "     latitude_sensor_2  longitude_sensor_2  height_sensor_2  type_sensor_2  \\\n",
       "17           47.511948           10.280076       754.537476      Radarcape   \n",
       "18           49.471601            7.696532       273.985000        GRX1090   \n",
       "84           46.049908           14.469008       346.883193      Radarcape   \n",
       "105          51.440416            6.751119        46.657000        GRX1090   \n",
       "138          48.196694           16.371110       203.513042      Radarcape   \n",
       "\n",
       "     latitude_sensor_3  longitude_sensor_3  height_sensor_3 type_sensor_3  \n",
       "17           47.511948           10.280076       754.537476     Radarcape  \n",
       "18           49.471601            7.696532       273.985000       GRX1090  \n",
       "84           46.049908           14.469008       346.883193     Radarcape  \n",
       "105          51.440416            6.751119        46.657000       GRX1090  \n",
       "138          48.196694           16.371110       203.513042     Radarcape  \n",
       "\n",
       "[5 rows x 28 columns]"
      ]
     },
     "execution_count": 13,
     "metadata": {},
     "output_type": "execute_result"
    }
   ],
   "source": [
    "pred_df = training_df[training_df['latitude_aircraft'].isna()]\n",
    "pred_df.to_csv('training_6_category_1/pred_data.csv', index=False)\n",
    "pred_df.info()\n",
    "pred_df.head()"
   ]
  },
  {
   "cell_type": "code",
   "execution_count": 14,
   "metadata": {
    "pycharm": {
     "name": "#%%\n"
    }
   },
   "outputs": [
    {
     "name": "stdout",
     "output_type": "stream",
     "text": [
      "<class 'pandas.core.frame.DataFrame'>\n",
      "Int64Index: 1844972 entries, 1 to 1930137\n",
      "Data columns (total 28 columns):\n",
      " #   Column              Dtype   \n",
      "---  ------              -----   \n",
      " 0   timeAtServer        float64 \n",
      " 1   aircraft            float64 \n",
      " 2   latitude_aircraft   float64 \n",
      " 3   longitude_aircraft  float64 \n",
      " 4   baroAltitude        float64 \n",
      " 5   geoAltitude         float64 \n",
      " 6   numMeasurements     float64 \n",
      " 7   serial_1            float64 \n",
      " 8   timestamp_1         float64 \n",
      " 9   signal_strength_1   float64 \n",
      " 10  serial_2            float64 \n",
      " 11  timestamp_2         float64 \n",
      " 12  signal_strength_2   float64 \n",
      " 13  serial_3            float64 \n",
      " 14  timestamp_3         float64 \n",
      " 15  signal_strength_3   float64 \n",
      " 16  latitude_sensor_1   float64 \n",
      " 17  longitude_sensor_1  float64 \n",
      " 18  height_sensor_1     float64 \n",
      " 19  type_sensor_1       category\n",
      " 20  latitude_sensor_2   float64 \n",
      " 21  longitude_sensor_2  float64 \n",
      " 22  height_sensor_2     float64 \n",
      " 23  type_sensor_2       category\n",
      " 24  latitude_sensor_3   float64 \n",
      " 25  longitude_sensor_3  float64 \n",
      " 26  height_sensor_3     float64 \n",
      " 27  type_sensor_3       category\n",
      "dtypes: category(3), float64(25)\n",
      "memory usage: 371.3 MB\n"
     ]
    },
    {
     "data": {
      "text/html": [
       "<div>\n",
       "<style scoped>\n",
       "    .dataframe tbody tr th:only-of-type {\n",
       "        vertical-align: middle;\n",
       "    }\n",
       "\n",
       "    .dataframe tbody tr th {\n",
       "        vertical-align: top;\n",
       "    }\n",
       "\n",
       "    .dataframe thead th {\n",
       "        text-align: right;\n",
       "    }\n",
       "</style>\n",
       "<table border=\"1\" class=\"dataframe\">\n",
       "  <thead>\n",
       "    <tr style=\"text-align: right;\">\n",
       "      <th></th>\n",
       "      <th>timeAtServer</th>\n",
       "      <th>aircraft</th>\n",
       "      <th>latitude_aircraft</th>\n",
       "      <th>longitude_aircraft</th>\n",
       "      <th>baroAltitude</th>\n",
       "      <th>geoAltitude</th>\n",
       "      <th>numMeasurements</th>\n",
       "      <th>serial_1</th>\n",
       "      <th>timestamp_1</th>\n",
       "      <th>signal_strength_1</th>\n",
       "      <th>...</th>\n",
       "      <th>height_sensor_1</th>\n",
       "      <th>type_sensor_1</th>\n",
       "      <th>latitude_sensor_2</th>\n",
       "      <th>longitude_sensor_2</th>\n",
       "      <th>height_sensor_2</th>\n",
       "      <th>type_sensor_2</th>\n",
       "      <th>latitude_sensor_3</th>\n",
       "      <th>longitude_sensor_3</th>\n",
       "      <th>height_sensor_3</th>\n",
       "      <th>type_sensor_3</th>\n",
       "    </tr>\n",
       "  </thead>\n",
       "  <tbody>\n",
       "    <tr>\n",
       "      <th>1</th>\n",
       "      <td>0.000</td>\n",
       "      <td>1644.0</td>\n",
       "      <td>48.821686</td>\n",
       "      <td>9.460285</td>\n",
       "      <td>12192.00</td>\n",
       "      <td>12809.22</td>\n",
       "      <td>6.0</td>\n",
       "      <td>248.0</td>\n",
       "      <td>983521375.0</td>\n",
       "      <td>54.0</td>\n",
       "      <td>...</td>\n",
       "      <td>321.081635</td>\n",
       "      <td>Radarcape</td>\n",
       "      <td>50.048573</td>\n",
       "      <td>8.487899</td>\n",
       "      <td>82.381000</td>\n",
       "      <td>GRX1090</td>\n",
       "      <td>50.048573</td>\n",
       "      <td>8.487899</td>\n",
       "      <td>82.381000</td>\n",
       "      <td>GRX1090</td>\n",
       "    </tr>\n",
       "    <tr>\n",
       "      <th>2</th>\n",
       "      <td>0.000</td>\n",
       "      <td>2184.0</td>\n",
       "      <td>49.810226</td>\n",
       "      <td>8.533052</td>\n",
       "      <td>7985.76</td>\n",
       "      <td>8420.10</td>\n",
       "      <td>2.0</td>\n",
       "      <td>125.0</td>\n",
       "      <td>995644625.0</td>\n",
       "      <td>108.0</td>\n",
       "      <td>...</td>\n",
       "      <td>497.984192</td>\n",
       "      <td>Radarcape</td>\n",
       "      <td>48.178822</td>\n",
       "      <td>12.235501</td>\n",
       "      <td>529.392761</td>\n",
       "      <td>Radarcape</td>\n",
       "      <td>48.178822</td>\n",
       "      <td>12.235501</td>\n",
       "      <td>529.392761</td>\n",
       "      <td>Radarcape</td>\n",
       "    </tr>\n",
       "    <tr>\n",
       "      <th>3</th>\n",
       "      <td>0.001</td>\n",
       "      <td>1453.0</td>\n",
       "      <td>48.471587</td>\n",
       "      <td>14.024048</td>\n",
       "      <td>12192.00</td>\n",
       "      <td>12793.98</td>\n",
       "      <td>3.0</td>\n",
       "      <td>10.0</td>\n",
       "      <td>946077203.0</td>\n",
       "      <td>132.0</td>\n",
       "      <td>...</td>\n",
       "      <td>430.682400</td>\n",
       "      <td>Radarcape</td>\n",
       "      <td>48.891468</td>\n",
       "      <td>9.177591</td>\n",
       "      <td>302.881989</td>\n",
       "      <td>Radarcape</td>\n",
       "      <td>48.891468</td>\n",
       "      <td>9.177591</td>\n",
       "      <td>302.881989</td>\n",
       "      <td>Radarcape</td>\n",
       "    </tr>\n",
       "    <tr>\n",
       "      <th>4</th>\n",
       "      <td>0.002</td>\n",
       "      <td>119.0</td>\n",
       "      <td>48.695572</td>\n",
       "      <td>9.116610</td>\n",
       "      <td>8663.94</td>\n",
       "      <td>9182.10</td>\n",
       "      <td>4.0</td>\n",
       "      <td>123.0</td>\n",
       "      <td>994055875.0</td>\n",
       "      <td>79.0</td>\n",
       "      <td>...</td>\n",
       "      <td>754.537476</td>\n",
       "      <td>Radarcape</td>\n",
       "      <td>47.400170</td>\n",
       "      <td>8.630680</td>\n",
       "      <td>430.682400</td>\n",
       "      <td>Radarcape</td>\n",
       "      <td>47.400170</td>\n",
       "      <td>8.630680</td>\n",
       "      <td>430.682400</td>\n",
       "      <td>Radarcape</td>\n",
       "    </tr>\n",
       "    <tr>\n",
       "      <th>5</th>\n",
       "      <td>0.002</td>\n",
       "      <td>312.0</td>\n",
       "      <td>47.209076</td>\n",
       "      <td>10.070480</td>\n",
       "      <td>11277.60</td>\n",
       "      <td>11849.10</td>\n",
       "      <td>5.0</td>\n",
       "      <td>206.0</td>\n",
       "      <td>978620859.0</td>\n",
       "      <td>68.0</td>\n",
       "      <td>...</td>\n",
       "      <td>1699.392950</td>\n",
       "      <td>Radarcape</td>\n",
       "      <td>46.762415</td>\n",
       "      <td>7.600441</td>\n",
       "      <td>594.318000</td>\n",
       "      <td>GRX1090</td>\n",
       "      <td>46.762415</td>\n",
       "      <td>7.600441</td>\n",
       "      <td>594.318000</td>\n",
       "      <td>GRX1090</td>\n",
       "    </tr>\n",
       "  </tbody>\n",
       "</table>\n",
       "<p>5 rows × 28 columns</p>\n",
       "</div>"
      ],
      "text/plain": [
       "   timeAtServer  aircraft  latitude_aircraft  longitude_aircraft  \\\n",
       "1         0.000    1644.0          48.821686            9.460285   \n",
       "2         0.000    2184.0          49.810226            8.533052   \n",
       "3         0.001    1453.0          48.471587           14.024048   \n",
       "4         0.002     119.0          48.695572            9.116610   \n",
       "5         0.002     312.0          47.209076           10.070480   \n",
       "\n",
       "   baroAltitude  geoAltitude  numMeasurements  serial_1  timestamp_1  \\\n",
       "1      12192.00     12809.22              6.0     248.0  983521375.0   \n",
       "2       7985.76      8420.10              2.0     125.0  995644625.0   \n",
       "3      12192.00     12793.98              3.0      10.0  946077203.0   \n",
       "4       8663.94      9182.10              4.0     123.0  994055875.0   \n",
       "5      11277.60     11849.10              5.0     206.0  978620859.0   \n",
       "\n",
       "   signal_strength_1  ...  height_sensor_1  type_sensor_1  latitude_sensor_2  \\\n",
       "1               54.0  ...       321.081635      Radarcape          50.048573   \n",
       "2              108.0  ...       497.984192      Radarcape          48.178822   \n",
       "3              132.0  ...       430.682400      Radarcape          48.891468   \n",
       "4               79.0  ...       754.537476      Radarcape          47.400170   \n",
       "5               68.0  ...      1699.392950      Radarcape          46.762415   \n",
       "\n",
       "   longitude_sensor_2  height_sensor_2  type_sensor_2  latitude_sensor_3  \\\n",
       "1            8.487899        82.381000        GRX1090          50.048573   \n",
       "2           12.235501       529.392761      Radarcape          48.178822   \n",
       "3            9.177591       302.881989      Radarcape          48.891468   \n",
       "4            8.630680       430.682400      Radarcape          47.400170   \n",
       "5            7.600441       594.318000        GRX1090          46.762415   \n",
       "\n",
       "   longitude_sensor_3  height_sensor_3 type_sensor_3  \n",
       "1            8.487899        82.381000       GRX1090  \n",
       "2           12.235501       529.392761     Radarcape  \n",
       "3            9.177591       302.881989     Radarcape  \n",
       "4            8.630680       430.682400     Radarcape  \n",
       "5            7.600441       594.318000       GRX1090  \n",
       "\n",
       "[5 rows x 28 columns]"
      ]
     },
     "execution_count": 14,
     "metadata": {},
     "output_type": "execute_result"
    }
   ],
   "source": [
    "training_df.dropna(inplace=True)\n",
    "training_df.to_csv('training_6_category_1/prepped_data.csv', index=False)\n",
    "training_df.info()\n",
    "training_df.head()"
   ]
  },
  {
   "cell_type": "code",
   "execution_count": 15,
   "metadata": {
    "pycharm": {
     "name": "#%%\n"
    }
   },
   "outputs": [
    {
     "data": {
      "text/plain": [
       "<AxesSubplot: >"
      ]
     },
     "execution_count": 15,
     "metadata": {},
     "output_type": "execute_result"
    },
    {
     "data": {
      "image/png": "[encoded data removed]",
      "text/plain": [
       "<Figure size 640x480 with 1 Axes>"
      ]
     },
     "metadata": {},
     "output_type": "display_data"
    }
   ],
   "source": [
    "training_df.boxplot(column=['signal_strength_1', 'signal_strength_2', 'signal_strength_3'])"
   ]
  },
  {
   "cell_type": "markdown",
   "metadata": {
    "pycharm": {
     "name": "#%% md\n"
    }
   },
   "source": [
    "Check for out outliers in the measurements by sensor type"
   ]
  },
  {
   "cell_type": "code",
   "execution_count": null,
   "metadata": {
    "pycharm": {
     "name": "#%%\n"
    }
   },
   "outputs": [],
   "source": [
    "measurements_df = aircrafts_data_df.explode(column='measurements', ignore_index=True)\n",
    "measurements_df[['serial', 'timestamp', 'signal_strength']] = pd.DataFrame(measurements_df['measurements'].tolist(), columns=['serial', 'timestamp', 'signal_strength'])\n",
    "measurements_df = measurements_df.join(sensors_df, on='serial', lsuffix='_aircraft', rsuffix='_sensor')"
   ]
  },
  {
   "cell_type": "code",
   "execution_count": null,
   "metadata": {
    "pycharm": {
     "name": "#%%\n"
    }
   },
   "outputs": [],
   "source": [
    "measurements_df.boxplot(column='signal_strength', by='type')"
   ]
  },
  {
   "cell_type": "code",
   "execution_count": null,
   "metadata": {
    "pycharm": {
     "name": "#%%\n"
    }
   },
   "outputs": [],
   "source": [
    "measurements_df.groupby('type').count()"
   ]
  }
 ],
 "metadata": {
  "kernelspec": {
   "display_name": "Python 3 (ipykernel)",
   "language": "python",
   "name": "python3"
  },
  "language_info": {
   "codemirror_mode": {
    "name": "ipython",
    "version": 3
   },
   "file_extension": ".py",
   "mimetype": "text/x-python",
   "name": "python",
   "nbconvert_exporter": "python",
   "pygments_lexer": "ipython3",
   "version": "3.8.10"
  }
 },
 "nbformat": 4,
 "nbformat_minor": 1
}